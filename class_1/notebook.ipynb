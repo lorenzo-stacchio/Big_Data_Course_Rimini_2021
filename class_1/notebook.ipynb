{
 "cells": [
  {
   "cell_type": "markdown",
   "source": [
    "# Prima lezione: Introduzione ai big data"
   ],
   "metadata": {}
  },
  {
   "cell_type": "markdown",
   "source": [
    "# String formatting"
   ],
   "metadata": {}
  },
  {
   "cell_type": "code",
   "execution_count": 7,
   "source": [
    "import math\r\n",
    "\r\n",
    "x = 16\r\n",
    "sqrt_of_x = math.sqrt(x)\r\n",
    "\r\n",
    "print(\"La radice quadrata di %s e' %s\" % (x,sqrt_of_x))"
   ],
   "outputs": [
    {
     "output_type": "stream",
     "name": "stdout",
     "text": [
      "La radice quadrata di 16 e' 4.0\n"
     ]
    }
   ],
   "metadata": {}
  },
  {
   "cell_type": "markdown",
   "source": [
    "## Cosa è successo? Conversione implicita dei tipi!"
   ],
   "metadata": {}
  },
  {
   "cell_type": "code",
   "execution_count": null,
   "source": [
    "print(\"La radice quadrata di %s e' %s\" % (x,int(sqrt_of_x)))"
   ],
   "outputs": [],
   "metadata": {}
  },
  {
   "cell_type": "markdown",
   "source": [
    "# COME CARICARE UNA IMMAGINE"
   ],
   "metadata": {}
  },
  {
   "cell_type": "markdown",
   "source": [
    "<img src=\"images/example.jpg\">"
   ],
   "metadata": {}
  }
 ],
 "metadata": {
  "orig_nbformat": 4,
  "language_info": {
   "name": "python",
   "version": "3.8.6",
   "mimetype": "text/x-python",
   "codemirror_mode": {
    "name": "ipython",
    "version": 3
   },
   "pygments_lexer": "ipython3",
   "nbconvert_exporter": "python",
   "file_extension": ".py"
  },
  "kernelspec": {
   "name": "python3",
   "display_name": "Python 3.8.6 64-bit"
  },
  "interpreter": {
   "hash": "14ee9122bc0dbba13bc6e9980465e34fd2e401aecc2ceb0874297cc3773a61b3"
  }
 },
 "nbformat": 4,
 "nbformat_minor": 2
}