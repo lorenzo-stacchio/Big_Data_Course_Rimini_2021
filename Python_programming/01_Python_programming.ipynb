{
  "nbformat": 4,
  "nbformat_minor": 0,
  "metadata": {
    "colab": {
      "name": "01_Python_programming.ipynb",
      "provenance": [],
      "collapsed_sections": [],
      "toc_visible": true
    },
    "kernelspec": {
      "name": "python3",
      "display_name": "Python 3"
    },
    "language_info": {
      "name": "python"
    }
  },
  "cells": [
    {
      "cell_type": "markdown",
      "metadata": {
        "id": "SWJsHuisd-Ss"
      },
      "source": [
        "# Introduzione ai Notebook e Google Colab"
      ]
    },
    {
      "cell_type": "markdown",
      "metadata": {
        "id": "2mMrQN8cZ6Yj"
      },
      "source": [
        "<p><img alt=\"Colaboratory logo\" height=\"50px\" src=\"https://cdn3.iconfinder.com/data/icons/logos-and-brands-adobe/512/267_Python-512.png\" align=\"left\" hspace=\"5px\" vspace=\"0px\"></p>\n",
        "\n",
        "<h1>Notebook di programmazione python</h1>\n",
        "\n",
        "Questo <b>Notebook</b> vi introdurrà alle meraviglie del linguaggio di programmazione <b>Python</b>! \n",
        "\n",
        "La prima domanda che vi porrete sarà: <b>cos'è un notebook python?</b>"
      ]
    },
    {
      "cell_type": "markdown",
      "metadata": {
        "id": "7Kt3F6Tnb5Kj"
      },
      "source": [
        "<p><img alt=\"Colaboratory logo\" height=\"50px\" src=\"https://upload.wikimedia.org/wikipedia/commons/thumb/3/38/Jupyter_logo.svg/1200px-Jupyter_logo.svg.png\" align=\"left\" hspace=\"5px\" vspace=\"0px\"></p>\n",
        "\n",
        "<h1>Jupyter Notebook</h1>\n",
        "\n",
        "[Jupyter Notebook](https://jupyter.org/) è una applicazione web gratuita che consente di creare e condividere documenti che contengono codice, equazioni, visualizzazioni dati e testo formattato. \n",
        "\n",
        "I notebook sono molto potenti sia per la didattica ma anche per la prototipazione di software. Infatti, i Notebook di **isolare l'esecuzione di alcuni pezzi di codice** ed è quindi ottimo per testare nuovo codice senza dover rieseguire per forza tutto il codice già scritto!\n",
        "\n",
        "Inoltre, I notebook permettono di intergrare facilmente diversi strumenti per i Big Data come **[Apache Spark](https://spark.apache.org/) e librerie come [pandas](https://pandas.pydata.org/), [scikit-learn](https://scikit-learn.org/stable/), [TensorFlow](https://www.tensorflow.org/), [PyTorch](https://pytorch.org/)**.\n",
        "\n",
        "Tuttavia, il vantaggio più utile fornito dai Notebook è che possono essere eseguiti su una pagina web tramite **l'utilizzo di Google Colaboratory**, piattaforma in cui vi trovate in questo momento!"
      ]
    },
    {
      "cell_type": "markdown",
      "metadata": {
        "id": "QN41DwaaaS2q"
      },
      "source": [
        "<p><img alt=\"Colaboratory logo\" height=\"45px\" src=\"/img/colab_favicon.ico\" align=\"left\" hspace=\"10px\" vspace=\"0px\"></p>\n",
        "\n",
        "<h1>Cos'è Colaboratory?</h1>\n",
        "\n",
        "Colaboratory o, in breve, \"Colab\" ti permette di scrivere ed eseguire codice Python nel tuo browser con i seguenti vantaggi:\n",
        "- Nessuna configurazione necessaria\n",
        "- Accesso gratuito alle GPU\n",
        "- Condivisione semplificata\n",
        "\n",
        "Che tu sia <strong>studente</strong>, <strong>data scientist</strong> o <strong>ricercatore AI</strong>, Colab può semplificarti il lavoro. Guarda <a href=\"https://www.youtube.com/watch?v=inN8seMm7UI\">questo video introduttivo su Colab</a> per ulteriori informazioni oppure inizia qui sotto."
      ]
    },
    {
      "cell_type": "markdown",
      "metadata": {
        "id": "ASzEsz8GdzbU"
      },
      "source": [
        "# La nostra prima riga di codice: print(\"Hello world\")"
      ]
    },
    {
      "cell_type": "code",
      "metadata": {
        "colab": {
          "base_uri": "https://localhost:8080/"
        },
        "id": "bxOycP9dZ28a",
        "outputId": "c459f76d-c5bf-426d-e9fd-77cc9ade1b58"
      },
      "source": [
        "# Questo è un commento. Potete utilizzarlo per ricordavi a che scopo avete effettuato una riga di codice o cosa volete ottenere dalla stessa.\n",
        "# Potete fare anche commenti su più linee in questo modo!\n",
        "# Scriviamo la nostra prima riga di codice!\n",
        "\n",
        "print(\"Hello World Lorenzo\") # stampa a video la stringa \"Hello World Lorenzo\""
      ],
      "execution_count": null,
      "outputs": [
        {
          "output_type": "stream",
          "name": "stdout",
          "text": [
            "Hello World Lorenzo\n"
          ]
        }
      ]
    },
    {
      "cell_type": "markdown",
      "metadata": {
        "id": "BYLQXDfOsbo6"
      },
      "source": [
        "# Variabili, valori e tipi"
      ]
    },
    {
      "cell_type": "markdown",
      "metadata": {
        "id": "ptuHY_t0BoJm"
      },
      "source": [
        "## Valori e tipi"
      ]
    },
    {
      "cell_type": "code",
      "metadata": {
        "colab": {
          "base_uri": "https://localhost:8080/"
        },
        "id": "tTEZsc9ABskk",
        "outputId": "f584dff4-58df-4c86-bc88-6e29261387be"
      },
      "source": [
        "# Il metodo type permette di identificare il tipo di un certo valore \n",
        "print(type(\"Hello World\")) # valore di tipo stringa\n",
        "\n",
        "print(type(2)) # valore di tipo numerico: intero\n",
        "\n",
        "print(type(3.4)) # valore di tipo numerico: float\n",
        "\n",
        "print(type(2+2)) # la somma tra due interi genera sempre un intero\n",
        "\n"
      ],
      "execution_count": null,
      "outputs": [
        {
          "output_type": "stream",
          "name": "stdout",
          "text": [
            "<class 'str'>\n",
            "<class 'int'>\n",
            "<class 'float'>\n",
            "<class 'int'>\n"
          ]
        }
      ]
    },
    {
      "cell_type": "code",
      "metadata": {
        "colab": {
          "base_uri": "https://localhost:8080/"
        },
        "id": "zRQFpbfpC50j",
        "outputId": "a16eae6a-0afa-405e-d95a-d7695ebb43fb"
      },
      "source": [
        "# Casting implicito\n",
        "\n",
        "print(2+3.4) # 5.5\n",
        "\n",
        "print(type(2+3.4)) # la somma tra un intero e un float genera sempre un float\n",
        "\n",
        "# Casting esplicito\n",
        "\n",
        "print(int(2+3.4)) # la somma tra un intero e un float genera sempre un float a meno che non chiediamo di prendere solo la parte intera\n",
        "\n",
        "print(type(int(2+3.4)))\n",
        "\n"
      ],
      "execution_count": null,
      "outputs": [
        {
          "output_type": "stream",
          "name": "stdout",
          "text": [
            "5.4\n",
            "<class 'float'>\n",
            "5\n",
            "<class 'int'>\n"
          ]
        }
      ]
    },
    {
      "cell_type": "code",
      "metadata": {
        "colab": {
          "base_uri": "https://localhost:8080/",
          "height": 216
        },
        "id": "QeC74GpNDg_q",
        "outputId": "38a2d932-e5c3-4cdb-d0e1-3b5185b71b35"
      },
      "source": [
        "# Cast espliciti non funzionanti\n",
        "print(int(\"aldo\"))\n",
        "\n",
        "#print(int(\"a\"))"
      ],
      "execution_count": null,
      "outputs": [
        {
          "output_type": "error",
          "ename": "ValueError",
          "evalue": "ignored",
          "traceback": [
            "\u001b[0;31m---------------------------------------------------------------------------\u001b[0m",
            "\u001b[0;31mValueError\u001b[0m                                Traceback (most recent call last)",
            "\u001b[0;32m<ipython-input-5-c5a68b5dc472>\u001b[0m in \u001b[0;36m<module>\u001b[0;34m()\u001b[0m\n\u001b[1;32m      1\u001b[0m \u001b[0;31m# Cast espliciti non funzionanti\u001b[0m\u001b[0;34m\u001b[0m\u001b[0;34m\u001b[0m\u001b[0;34m\u001b[0m\u001b[0m\n\u001b[0;32m----> 2\u001b[0;31m \u001b[0mprint\u001b[0m\u001b[0;34m(\u001b[0m\u001b[0mint\u001b[0m\u001b[0;34m(\u001b[0m\u001b[0;34m\"aldo\"\u001b[0m\u001b[0;34m)\u001b[0m\u001b[0;34m)\u001b[0m\u001b[0;34m\u001b[0m\u001b[0;34m\u001b[0m\u001b[0m\n\u001b[0m\u001b[1;32m      3\u001b[0m \u001b[0;34m\u001b[0m\u001b[0m\n\u001b[1;32m      4\u001b[0m \u001b[0;31m#print(int(\"a\"))\u001b[0m\u001b[0;34m\u001b[0m\u001b[0;34m\u001b[0m\u001b[0;34m\u001b[0m\u001b[0m\n",
            "\u001b[0;31mValueError\u001b[0m: invalid literal for int() with base 10: 'aldo'"
          ]
        }
      ]
    },
    {
      "cell_type": "code",
      "metadata": {
        "colab": {
          "base_uri": "https://localhost:8080/"
        },
        "id": "qg4bHBPGD2Oo",
        "outputId": "fb1f6c31-ff1d-435b-d86f-116910e05ed8"
      },
      "source": [
        "# Cast esplicito funzionante \n",
        "\n",
        "print(ord(\"a\")) # ord è una funzione particolare che mappa un carattere nel suo corrispettivo numerico Ascii, che ha un ordinamento appunto ordinale!\n",
        "\n",
        "# print(ord(\"aldo\")) # non esiste corrispondenza tra una qualunque stringa e un intero!\n",
        "print([ord(x) for x in \"aldo\"])\n",
        "\n"
      ],
      "execution_count": null,
      "outputs": [
        {
          "output_type": "stream",
          "name": "stdout",
          "text": [
            "97\n",
            "[97, 108, 100, 111]\n"
          ]
        }
      ]
    },
    {
      "cell_type": "markdown",
      "metadata": {
        "id": "eo30hRrFnvdF"
      },
      "source": [
        "## Variabili"
      ]
    },
    {
      "cell_type": "code",
      "metadata": {
        "colab": {
          "base_uri": "https://localhost:8080/"
        },
        "id": "UeYZriAVGgcH",
        "outputId": "88d91a09-934b-4fa0-a1a7-f8d8157b81b4"
      },
      "source": [
        "nome = \"Lorenzo\" # assegno il valore Lorenzo alla variabile nome\n",
        "pi = 3.14\n",
        "eulero = 2.71\n",
        "\n",
        "print(nome, type(nome)) # tipo string\n",
        "print(pi, type(pi)) # tipo string\n",
        "print(eulero, type(eulero)) # tipo string"
      ],
      "execution_count": null,
      "outputs": [
        {
          "output_type": "stream",
          "name": "stdout",
          "text": [
            "Lorenzo <class 'str'>\n",
            "3.14 <class 'float'>\n",
            "2.71 <class 'float'>\n"
          ]
        }
      ]
    },
    {
      "cell_type": "code",
      "metadata": {
        "colab": {
          "base_uri": "https://localhost:8080/"
        },
        "id": "r-nqY3liHZxT",
        "outputId": "400296e7-c7dc-4e13-f906-695fa064937e"
      },
      "source": [
        "# Dynamic typing\n",
        "\n",
        "nome = 2 # ri-assegno la variabile nome col valore 2\n",
        "\n",
        "print(nome, type(nome)) # tipo intero"
      ],
      "execution_count": null,
      "outputs": [
        {
          "output_type": "stream",
          "name": "stdout",
          "text": [
            "2 <class 'int'>\n"
          ]
        }
      ]
    },
    {
      "cell_type": "code",
      "metadata": {
        "colab": {
          "base_uri": "https://localhost:8080/"
        },
        "id": "P_uBk9GwG6MD",
        "outputId": "89c49fa3-75c0-4f4d-e213-8abbe0be7ae9"
      },
      "source": [
        "# Per assegnare nomi di variabili multi parola si usa la notazione snake_case. Potete usarne anche altre ma questa è quella ufficiale di Python.\n",
        "\n",
        "nome_di_variabile_con_molte_parole = \"boomer\"\n",
        "\n",
        "print(nome_di_variabile_con_molte_parole, type(nome_di_variabile_con_molte_parole))"
      ],
      "execution_count": null,
      "outputs": [
        {
          "output_type": "stream",
          "name": "stdout",
          "text": [
            "boomer <class 'str'>\n"
          ]
        }
      ]
    },
    {
      "cell_type": "code",
      "metadata": {
        "colab": {
          "base_uri": "https://localhost:8080/"
        },
        "id": "5wwx9qcyH-gg",
        "outputId": "48699581-71c3-4e7f-ae94-e1f460b04b0f"
      },
      "source": [
        "# Somma tra pi ed eulero\n",
        "\n",
        "pi_somma_eulero = pi + eulero\n",
        "\n",
        "print(pi_somma_eulero,type(pi_somma_eulero))"
      ],
      "execution_count": null,
      "outputs": [
        {
          "output_type": "stream",
          "name": "stdout",
          "text": [
            "5.85 <class 'float'>\n"
          ]
        }
      ]
    },
    {
      "cell_type": "code",
      "metadata": {
        "colab": {
          "base_uri": "https://localhost:8080/",
          "height": 199
        },
        "id": "3kvetmskl25Y",
        "outputId": "0ad74e83-d325-4dda-c89a-8f4f0a19ef32"
      },
      "source": [
        "# Si può cancellare una variabile dalla memoria con il comando del\n",
        "\n",
        "del pi_somma_eulero\n",
        "\n",
        "print(pi_somma_eulero) # Error"
      ],
      "execution_count": null,
      "outputs": [
        {
          "output_type": "error",
          "ename": "NameError",
          "evalue": "ignored",
          "traceback": [
            "\u001b[0;31m---------------------------------------------------------------------------\u001b[0m",
            "\u001b[0;31mNameError\u001b[0m                                 Traceback (most recent call last)",
            "\u001b[0;32m<ipython-input-9-c6b8949960e1>\u001b[0m in \u001b[0;36m<module>\u001b[0;34m()\u001b[0m\n\u001b[1;32m      3\u001b[0m \u001b[0;32mdel\u001b[0m \u001b[0mpi_somma_eulero\u001b[0m\u001b[0;34m\u001b[0m\u001b[0;34m\u001b[0m\u001b[0m\n\u001b[1;32m      4\u001b[0m \u001b[0;34m\u001b[0m\u001b[0m\n\u001b[0;32m----> 5\u001b[0;31m \u001b[0mprint\u001b[0m\u001b[0;34m(\u001b[0m\u001b[0mpi_somma_eulero\u001b[0m\u001b[0;34m)\u001b[0m \u001b[0;31m# None\u001b[0m\u001b[0;34m\u001b[0m\u001b[0;34m\u001b[0m\u001b[0m\n\u001b[0m",
            "\u001b[0;31mNameError\u001b[0m: name 'pi_somma_eulero' is not defined"
          ]
        }
      ]
    },
    {
      "cell_type": "markdown",
      "metadata": {
        "id": "y77I9crPKb4L"
      },
      "source": [
        "## Valutazione delle espressioni e composizioni\n",
        "\n"
      ]
    },
    {
      "cell_type": "code",
      "metadata": {
        "id": "BN2yNwQ5KbS-"
      },
      "source": [
        "cento = 100\n",
        "cinque = 5\n",
        "sei = 6"
      ],
      "execution_count": null,
      "outputs": []
    },
    {
      "cell_type": "code",
      "metadata": {
        "colab": {
          "base_uri": "https://localhost:8080/"
        },
        "id": "jzS0kUNNKmuk",
        "outputId": "3a4dbbc7-cf7f-4846-f92e-93e81fd44232"
      },
      "source": [
        "# Elevamento a potenza ha la priorità\n",
        "print(sei**1+2) # 8 e non 216\n",
        "\n",
        "# Usando le parentesi otteniamo 216\n",
        "print(sei**(1+2))  # 6**3"
      ],
      "execution_count": null,
      "outputs": [
        {
          "output_type": "stream",
          "name": "stdout",
          "text": [
            "8\n",
            "216\n"
          ]
        }
      ]
    },
    {
      "cell_type": "code",
      "metadata": {
        "colab": {
          "base_uri": "https://localhost:8080/"
        },
        "id": "SnNCnq1QK95y",
        "outputId": "c39e5932-849d-4bff-9aad-ba5aafb0208b"
      },
      "source": [
        "# Elevamento a potenza ha la priorità\n",
        "print(cento*cinque/sei) # 83.33\n",
        "\n",
        "print(cento/sei*cinque) # il risultato non cambia! "
      ],
      "execution_count": null,
      "outputs": [
        {
          "output_type": "stream",
          "name": "stdout",
          "text": [
            "83.33333333333333\n",
            "83.33333333333334\n"
          ]
        }
      ]
    },
    {
      "cell_type": "code",
      "metadata": {
        "colab": {
          "base_uri": "https://localhost:8080/"
        },
        "id": "r_xIXDsWK98y",
        "outputId": "b3589b8b-4e19-4b39-da46-f2c2f5527393"
      },
      "source": [
        "# Grazie alla priorità anche questo risultato non cambia\n",
        "print(cento+sei*cinque)\n",
        "\n",
        "print(cento+cinque*sei)\n",
        "\n",
        "# Se usiamo le parentesi si\n",
        "print((cento+cinque)*sei)\n"
      ],
      "execution_count": null,
      "outputs": [
        {
          "output_type": "stream",
          "name": "stdout",
          "text": [
            "130\n",
            "130\n",
            "630\n"
          ]
        }
      ]
    },
    {
      "cell_type": "code",
      "metadata": {
        "id": "fk1g2HW7Pcud",
        "colab": {
          "base_uri": "https://localhost:8080/"
        },
        "outputId": "9d38a584-e93b-40f5-c3b4-81beeb760151"
      },
      "source": [
        "# Molte delle istruzioni che abbiamo visto sono in realtà compisizioni di istruzioni\n",
        "print(cento/sei*cinque) # è una composizione\n",
        "\n",
        "# 1. cento/sei\n",
        "# 2. risultato di 1. é cinque\n",
        "# 3. stampa del risultato di 2. "
      ],
      "execution_count": null,
      "outputs": [
        {
          "output_type": "stream",
          "name": "stdout",
          "text": [
            "83.33333333333334\n"
          ]
        }
      ]
    },
    {
      "cell_type": "markdown",
      "metadata": {
        "id": "bhPaKOrBPujr"
      },
      "source": [
        "## Molte delle istruzioni che abbiamo visto sono in realtà compisizioni\n",
        "\n",
        "```\n",
        "print(cento/sei*cinque) # è una composizione\n",
        "```\n",
        "\n",
        "\n",
        "1. cento/sei\n",
        "2. risultato di 1. é cinque\n",
        "3. stampa del risultato di 2. \n"
      ]
    },
    {
      "cell_type": "markdown",
      "metadata": {
        "id": "Pgeli4qHpS_H"
      },
      "source": [
        "# Operatori Booleani\n",
        "\n",
        "Gli operatori fondamentali sono:\n",
        "\n",
        "\n",
        "\n",
        "\n",
        "*   ``` and ```\n",
        "*  ``` or ```\n",
        "*  ``` not ```\n",
        "\n",
        "\n"
      ]
    },
    {
      "cell_type": "code",
      "metadata": {
        "colab": {
          "base_uri": "https://localhost:8080/"
        },
        "id": "jMzrT8nBpVDd",
        "outputId": "74f7924a-d1d1-4c6a-abad-65ac96f2828a"
      },
      "source": [
        "oggi_piove = True\n",
        "\n",
        "ho_una_maglietta_blu = False\n",
        "\n",
        "sto_facendo_un_corso = True\n",
        "\n",
        "\n",
        "oggi_piove_E_ho_una_maglietta_blu = oggi_piove and ho_una_maglietta_blu\n",
        "\n",
        "oggi_piove_OPPURE_sto_facendo_un_corso = oggi_piove and sto_facendo_un_corso\n",
        "\n",
        "non_ho_una_maglietta_blu = not(ho_una_maglietta_blu)\n",
        "\n",
        "\n",
        "print(\"E' vero che oggi piove e ho una maglietta blu?\", oggi_piove_E_ho_una_maglietta_blu)\n",
        "\n",
        "print(\"E' vero che oggi piove oppure sto facendo un corso?\", oggi_piove_E_ho_una_maglietta_blu)\n",
        "\n",
        "print(\"E' vero che non ho una maglietta blu?\", non_ho_una_maglietta_blu)"
      ],
      "execution_count": null,
      "outputs": [
        {
          "output_type": "stream",
          "name": "stdout",
          "text": [
            "E' vero che oggi piove e ho una maglietta blu? False\n",
            "E' vero che oggi piove oppure sto facendo un corso? False\n",
            "E' vero che non ho una maglietta blu? True\n"
          ]
        }
      ]
    },
    {
      "cell_type": "markdown",
      "metadata": {
        "id": "3kcRyJSEzEHH"
      },
      "source": [
        "## Valori di verità False"
      ]
    },
    {
      "cell_type": "code",
      "metadata": {
        "colab": {
          "base_uri": "https://localhost:8080/"
        },
        "id": "F0c_Rg-XzDl4",
        "outputId": "53ba90a5-91e3-440c-9b7a-1c5e7553725b"
      },
      "source": [
        "# Per convertire una qualunque variabile al tipo Booleano basta usare il cast bool()\n",
        "\n",
        "None_bool = bool(None) # None è False\n",
        "print(None_bool) \n",
        "\n",
        "print(False) # False è già booleano\n",
        "\n",
        "empty_string_bool = bool('')\n",
        "print(empty_string_bool) # False è già booleano\n",
        "\n",
        "# E anche tutte le rappresentazioni vuote di sequenze e dizionari sono False\n",
        "tupla_vuota = bool(()) # le parentesti interne indicano la tupla vuota\n",
        "lista_vuota = bool([])  # le parentesti quadre indicano la lista vuota\n",
        "dizionario_vuoto = bool({}) # le parentsi graffe indicano il dizionario vuoto\n",
        "\n",
        "print(tupla_vuota, lista_vuota, dizionario_vuoto)"
      ],
      "execution_count": null,
      "outputs": [
        {
          "output_type": "stream",
          "name": "stdout",
          "text": [
            "False\n",
            "False\n",
            "False\n",
            "False False False\n"
          ]
        }
      ]
    },
    {
      "cell_type": "markdown",
      "metadata": {
        "id": "zctE8YrBO271"
      },
      "source": [
        "# Espressioni su stringhe"
      ]
    },
    {
      "cell_type": "code",
      "metadata": {
        "colab": {
          "base_uri": "https://localhost:8080/"
        },
        "id": "ROBC3YMSO4xF",
        "outputId": "708b9827-3319-4055-c174-6ad598118a54"
      },
      "source": [
        "print(\"banana\" + \"frutta\")\n",
        "\n",
        "print(\"banana\" * 3)"
      ],
      "execution_count": null,
      "outputs": [
        {
          "output_type": "stream",
          "name": "stdout",
          "text": [
            "bananafrutta\n",
            "bananabananabanana\n"
          ]
        }
      ]
    },
    {
      "cell_type": "markdown",
      "metadata": {
        "id": "9uCeTQbqniVz"
      },
      "source": [
        "# Prendere dei valori in input dalla tastiera\n",
        "\n"
      ]
    },
    {
      "cell_type": "code",
      "metadata": {
        "colab": {
          "base_uri": "https://localhost:8080/"
        },
        "id": "dM5TrzqSnfl1",
        "outputId": "c183d260-ca27-405d-b937-28941503c661"
      },
      "source": [
        "# Possiamo usare la funzione input() per fornire al nostro software dei valori tramite tastiera\n",
        "\n",
        "nome = input('Inserisci il tuo nome: ') # assegniamo l'input alla variabile nome\n",
        "\n",
        "print(\"Hello World %s\" % nome) # Stampiamo a video la stringa \"Hello World\" seguita dal nome fornito dall'input!"
      ],
      "execution_count": null,
      "outputs": [
        {
          "output_type": "stream",
          "name": "stdout",
          "text": [
            "Inserisci il tuo nome: 5\n",
            "Hello World 5\n"
          ]
        }
      ]
    },
    {
      "cell_type": "code",
      "metadata": {
        "id": "EJkEQMzRr_mP"
      },
      "source": [
        "# Primo gruppo esercizi "
      ],
      "execution_count": null,
      "outputs": []
    },
    {
      "cell_type": "markdown",
      "metadata": {
        "id": "Yt1XSEwOMB89"
      },
      "source": [
        "## Primo esercizio\n",
        "\n",
        "Consegna: trovare la radice quadrata di ogni numero fornito in input. \n",
        "\n",
        "La soluzione può essere trovata in una sola riga, componendo diversi operatori."
      ]
    },
    {
      "cell_type": "markdown",
      "metadata": {
        "id": "zMFqrviQNEUJ"
      },
      "source": [
        "<img width=\"500\" src=\"data:image/png;base64,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\" >"
      ]
    },
    {
      "cell_type": "code",
      "metadata": {
        "colab": {
          "base_uri": "https://localhost:8080/"
        },
        "id": "u-fP-wJ0MID-",
        "outputId": "201e7475-ad56-48ce-f33b-2852ff7c9403"
      },
      "source": [
        "numero_intero = int(input('Inserisci il tuo numero intero: ')) # castiamo a intero per evitare di inserire valori illegali\n",
        "\n",
        "square_root_radix = 2\n",
        "\n",
        "########## Il tuo codice inizia qui ##########\n",
        "\n",
        "radice_numero_intero = None\n",
        "\n",
        "########## Il tuo codice finisce qui ##########\n",
        "\n",
        "print(radice_numero_intero,type(radice_numero_intero))"
      ],
      "execution_count": null,
      "outputs": [
        {
          "output_type": "stream",
          "name": "stdout",
          "text": [
            "Inserisci il tuo numero intero: 5\n",
            "None <class 'NoneType'>\n"
          ]
        }
      ]
    },
    {
      "cell_type": "markdown",
      "metadata": {
        "id": "eVofmXu3N0tF"
      },
      "source": [
        "\n",
        "## Secondo esercizio\n",
        "\n",
        "Consegna: trovare la radice ennesima di ogni numero fornito in input. \n",
        "\n",
        "La soluzione può essere trovata in una sola riga, componendo diversi operatori."
      ]
    },
    {
      "cell_type": "code",
      "metadata": {
        "id": "tMbQzbBVN85B",
        "colab": {
          "base_uri": "https://localhost:8080/",
          "height": 251
        },
        "outputId": "049328b5-5b54-4c00-9e35-939d2c27bbc7"
      },
      "source": [
        "numero_intero = int(input('Inserisci il tuo numero intero: ')) # castiamo a intero per evitare di inserire valori illegali\n",
        "\n",
        "########## Il tuo codice inizia qui ##########\n",
        "\n",
        "n_radix = None # castiamo a intero per evitare di inserire valori illegali\n",
        "\n",
        "radice_numero_intero = None\n",
        "\n",
        "########## Il tuo codice finisce qui ##########\n",
        "\n",
        "if radice_numero_intero == None or n_radix == None: # controlliamo che abbiate implementato effettivamente qualcosa\n",
        "  raise NotImplementedError(\"Non hai implementato la radice quadrata\")\n",
        "\n",
        "# Guardiamo il risultato\n",
        "print(radice_numero_intero,type(radice_numero_intero))"
      ],
      "execution_count": null,
      "outputs": [
        {
          "name": "stdout",
          "output_type": "stream",
          "text": [
            "Inserisci il tuo numero intero: 5\n"
          ]
        },
        {
          "output_type": "error",
          "ename": "NotImplementedError",
          "evalue": "ignored",
          "traceback": [
            "\u001b[0;31m---------------------------------------------------------------------------\u001b[0m",
            "\u001b[0;31mNotImplementedError\u001b[0m                       Traceback (most recent call last)",
            "\u001b[0;32m<ipython-input-29-690fac5fa310>\u001b[0m in \u001b[0;36m<module>\u001b[0;34m()\u001b[0m\n\u001b[1;32m     10\u001b[0m \u001b[0;34m\u001b[0m\u001b[0m\n\u001b[1;32m     11\u001b[0m \u001b[0;32mif\u001b[0m \u001b[0mradice_numero_intero\u001b[0m \u001b[0;34m==\u001b[0m \u001b[0;32mNone\u001b[0m \u001b[0;32mor\u001b[0m \u001b[0mn_radix\u001b[0m \u001b[0;34m==\u001b[0m \u001b[0;32mNone\u001b[0m\u001b[0;34m:\u001b[0m \u001b[0;31m# controlliamo che abbiate implementato effettivamente qualcosa\u001b[0m\u001b[0;34m\u001b[0m\u001b[0;34m\u001b[0m\u001b[0m\n\u001b[0;32m---> 12\u001b[0;31m   \u001b[0;32mraise\u001b[0m \u001b[0mNotImplementedError\u001b[0m\u001b[0;34m(\u001b[0m\u001b[0;34m\"Non hai implementato la radice quadrata\"\u001b[0m\u001b[0;34m)\u001b[0m\u001b[0;34m\u001b[0m\u001b[0;34m\u001b[0m\u001b[0m\n\u001b[0m\u001b[1;32m     13\u001b[0m \u001b[0;34m\u001b[0m\u001b[0m\n\u001b[1;32m     14\u001b[0m \u001b[0;31m# Guardiamo il risultato\u001b[0m\u001b[0;34m\u001b[0m\u001b[0;34m\u001b[0m\u001b[0;34m\u001b[0m\u001b[0m\n",
            "\u001b[0;31mNotImplementedError\u001b[0m: Non hai implementato la radice quadrata"
          ]
        }
      ]
    },
    {
      "cell_type": "markdown",
      "metadata": {
        "id": "xOOwEGqjv5Zw"
      },
      "source": [
        "## Terzo esercizio\n",
        "\n",
        "Dati due numeri in input, verifica se il primo è maggiore uguale al secondo"
      ]
    },
    {
      "cell_type": "code",
      "metadata": {
        "id": "3R3lzAbawCRv"
      },
      "source": [
        "def primo_numero_maggiore_uguale_numero2(numero1,numero2):\n",
        "  ########## Il tuo codice inizia qui ##########\n",
        "  return None\n",
        "  ########## Il tuo codice finisce qui ##########\n"
      ],
      "execution_count": null,
      "outputs": []
    },
    {
      "cell_type": "code",
      "metadata": {
        "colab": {
          "base_uri": "https://localhost:8080/"
        },
        "id": "miWynNSZwKgN",
        "outputId": "fc550ec3-93ac-4a6b-90c4-3942afe1ce86"
      },
      "source": [
        "numero_1 = int(input('Inserisci il primo numero intero: ')) # castiamo a intero per evitare di inserire valori illegali\n",
        "numero_2 = int(input('Inserisci il secondo numero intero: ')) # castiamo a intero per evitare di inserire valori illegali\n",
        "\n",
        "numero_1_maggiore_numero_2 = primo_numero_maggiore_uguale_numero2(numero_1,numero_2)\n",
        "\n",
        "if numero_1_maggiore_numero_2 == None: \n",
        "  raise NotImplementedError(\"Non ha implementato la funzione primo_numero_maggiore_uguale_numero2\")\n",
        "\n",
        "print(numero_1, \" >= \", numero_2, \"?  \", numero_1_maggiore_numero_2)"
      ],
      "execution_count": null,
      "outputs": [
        {
          "output_type": "stream",
          "name": "stdout",
          "text": [
            "Inserisci il primo numero intero: 5\n",
            "Inserisci il secondo numero intero: 7\n",
            "5  >=  7 ?   False\n"
          ]
        }
      ]
    },
    {
      "cell_type": "markdown",
      "metadata": {
        "id": "jPOCwS83U6Iu"
      },
      "source": [
        "# Funzioni"
      ]
    },
    {
      "cell_type": "code",
      "metadata": {
        "colab": {
          "base_uri": "https://localhost:8080/"
        },
        "id": "0cmP5J4WZ7TD",
        "outputId": "6df9f41b-90db-4116-cfa0-8e334e4a8465"
      },
      "source": [
        "# La nostra prima funzione di somma!\n",
        "\n",
        "def somma(numero_intero_1,numero_intero_2):\n",
        "    valore_somma = numero_intero_1 + numero_intero_2\n",
        "    return valore_somma\n",
        "  \n",
        "print(somma(5,7))\n",
        "\n",
        "print(somma(10,128))\n",
        "\n",
        "print(somma(10,3*5))"
      ],
      "execution_count": null,
      "outputs": [
        {
          "output_type": "stream",
          "name": "stdout",
          "text": [
            "12\n",
            "138\n",
            "25\n"
          ]
        }
      ]
    },
    {
      "cell_type": "code",
      "metadata": {
        "colab": {
          "base_uri": "https://localhost:8080/"
        },
        "id": "4rmq6KdyaMCa",
        "outputId": "1bf3acc1-216b-4a69-903c-215ba6ede027"
      },
      "source": [
        "numero_1 = int(input('Inserisci il primo addendo: ')) # castiamo a intero per evitare di inserire valori illegali\n",
        "numero_2 = int(input('Inserisci il secondo addendo: ')) # castiamo a intero per evitare di inserire valori illegali\n",
        "\n",
        "print(\"La somma tra %s e %s fa: %s\" % (numero_1, numero_2,somma(numero_1,numero_2)))\n"
      ],
      "execution_count": null,
      "outputs": [
        {
          "output_type": "stream",
          "name": "stdout",
          "text": [
            "Inserisci il primo addendo: 5\n",
            "Inserisci il secondo addendo: 2\n",
            "La somma tra 5 e 2 fa: 7\n"
          ]
        }
      ]
    },
    {
      "cell_type": "markdown",
      "metadata": {
        "id": "bjM5TIyaa5Ja"
      },
      "source": [
        "## Esercizio funzioni algebriche\n",
        "\n",
        "Consegna: definire tre funzione \"sottrazione\", \"divisione\" e \"moltiplicazione!\" che effettuino le rispettive operazioni tra due numeri interi."
      ]
    },
    {
      "cell_type": "code",
      "metadata": {
        "colab": {
          "base_uri": "https://localhost:8080/"
        },
        "id": "gfmpFYiGbGuX",
        "outputId": "64d6d0da-c3f1-49c9-a074-d1c34f43c696"
      },
      "source": [
        "########## Il tuo codice inizia qui ##########\n",
        "\n",
        "def sottrazione(numero_intero_1,numero_intero_2):\n",
        "    valore_sottrazione = numero_intero_1 - numero_intero_2\n",
        "    return valore_sottrazione\n",
        "\n",
        "\n",
        "def divisione(numero_intero_1,numero_intero_2):\n",
        "    valore_divisione = None\n",
        "    return valore_divisione\n",
        "\n",
        "def moltiplicazione(numero_intero_1,numero_intero_2):\n",
        "    valore_moltiplicazione = None\n",
        "    return valore_moltiplicazione\n",
        "\n",
        "########## Il tuo codice finisce qui ##########\n",
        "\n",
        "\n",
        "test_sottrazione = sottrazione(5,7)\n",
        "\n",
        "test_divisione = divisione(30,5)\n",
        "\n",
        "test_moltiplicazione = moltiplicazione(3,5)\n",
        "\n",
        "# Controlliamo le vostre implementazioni\n",
        "if not test_sottrazione or test_sottrazione != -2:\n",
        "      raise NotImplementedError(\"Non hai implementato correttamente la sottrazione\")\n",
        "\n",
        "if not test_divisione or test_divisione != 6:\n",
        "      raise NotImplementedError(\"Non hai implementato correttamente la divisione\")\n",
        "\n",
        "if not test_moltiplicazione or test_moltiplicazione != 15:\n",
        "      raise NotImplementedError(\"Non hai implementato correttamente la moltiplicazione\")\n",
        "\n",
        "\n",
        "print(\"Complimenti, hai implementato tutte le funzioni richieste da un algebra di base!\")\n"
      ],
      "execution_count": null,
      "outputs": [
        {
          "output_type": "stream",
          "name": "stdout",
          "text": [
            "Complimenti, hai implementato tutte le funzioni richieste da un algebra di base!\n"
          ]
        }
      ]
    },
    {
      "cell_type": "markdown",
      "metadata": {
        "id": "eeLXhfIq44Pa"
      },
      "source": [
        "## Compisizione di funzioni\n",
        "\n",
        "Possiamo ovviamente comporre l'esecuzione di più funzioni!\n",
        "\n",
        "\n",
        "```\n",
        "sottrazione(somma(3,4),7)\n",
        "```\n",
        "\n",
        "\n",
        "equivarebbe a effettuare le seguenti operazioni:\n",
        "\n",
        "\n",
        "```\n",
        "(3+4) - 7 = 0\n",
        "```\n",
        "\n",
        "Si effettuano le operazioni seguendo quello che viene definita [**valutazione Eager**](https://it.wikipedia.org/wiki/Valutazione_eager#:~:text=Nella%20programmazione%2C%20la%20valutazione%20eager,espressione%20che%20da%20essa%20dipende.):\n",
        "\n",
        "\n",
        "1.   Si valutano prima gli argomenti della funzione **sottrazione**, ossia **somma(3,4)** e **7**;\n",
        "2.   Per valutare somma(3,4) dobbiamo eseguire la funzione da essa definita, che ritorna il valore 7;\n",
        "3. A questo punto, prendiamo il valore 7 e lo sottraiamo a 7, ottenendo 0.\n",
        "\n",
        "\n",
        "\n",
        "\n",
        "\n"
      ]
    },
    {
      "cell_type": "code",
      "metadata": {
        "colab": {
          "base_uri": "https://localhost:8080/"
        },
        "id": "Orokw69943j2",
        "outputId": "57d5dd46-a8da-4600-bcb8-1c9d3d2d547d"
      },
      "source": [
        "composizione_somma_sottrazione = sottrazione(somma(3,4),7)\n",
        "print(composizione_somma_sottrazione)"
      ],
      "execution_count": null,
      "outputs": [
        {
          "output_type": "stream",
          "name": "stdout",
          "text": [
            "0\n"
          ]
        }
      ]
    },
    {
      "cell_type": "markdown",
      "metadata": {
        "id": "D-D1dhgt-icI"
      },
      "source": [
        "## Esempi libreria o modulo Math"
      ]
    },
    {
      "cell_type": "code",
      "metadata": {
        "id": "KaNA2CmH-l2w"
      },
      "source": [
        "import math # importiamo la nostra prima libreria"
      ],
      "execution_count": null,
      "outputs": []
    },
    {
      "cell_type": "markdown",
      "metadata": {
        "id": "HGQqqFmvC9Oo"
      },
      "source": [
        "<img width=\"300\" src=\"data:image/png;base64,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\">"
      ]
    },
    {
      "cell_type": "code",
      "metadata": {
        "colab": {
          "base_uri": "https://localhost:8080/"
        },
        "id": "8G-gUskv-q2T",
        "outputId": "fe2440b0-8eb9-4c4f-8c78-2d8264ddfd1e"
      },
      "source": [
        "# ruotiamo i gradi \n",
        "gradi = 45\n",
        "angolo = gradi * 2 * math.pi / 360.0 # scaliamo di 360 per avere un numero compreso tra 1 e -1 in modo tale da poter calcolare il seno \n",
        "print(angolo)\n",
        "print(math.sin(angolo))"
      ],
      "execution_count": null,
      "outputs": [
        {
          "output_type": "stream",
          "name": "stdout",
          "text": [
            "0.7853981633974483\n",
            "0.7071067811865475\n"
          ]
        }
      ]
    },
    {
      "cell_type": "markdown",
      "metadata": {
        "id": "ng771gLLFv80"
      },
      "source": [
        "# Scope di una variabile"
      ]
    },
    {
      "cell_type": "markdown",
      "metadata": {
        "id": "oSanwTptL5gh"
      },
      "source": [
        "## Variabile globale vs locale"
      ]
    },
    {
      "cell_type": "code",
      "metadata": {
        "id": "_O7U9TFTJlb0"
      },
      "source": [
        "# Siamo a livello 1 della gerarchia di visibilità\n",
        "# variabile con scope globale\n",
        "\n",
        "variabile_globale = \"globale\"\n",
        "\n",
        "def funzione_per_esaminare_scope(variabile_locale_1, variabile_locale_2):\n",
        "  # Siamo a livello 2 della gerarchia di visibilità\n",
        "  variabile_locale_1 = \"locale_1\" # scope locale\n",
        "  variabile_locale_2 = \"locale_2\" # scope locale\n",
        "  print(\"Variabili con scope locali %s\" % [variabile_locale_1,variabile_locale_2])\n",
        "  print(\"Variabili con scope locali %s\" % [variabile_globale])"
      ],
      "execution_count": null,
      "outputs": []
    },
    {
      "cell_type": "code",
      "metadata": {
        "colab": {
          "base_uri": "https://localhost:8080/"
        },
        "id": "6l6K5a8SKCKF",
        "outputId": "d5eb6f17-9043-476e-85f6-43931eb1cbf0"
      },
      "source": [
        "print(variabile_globale) #variabile globale"
      ],
      "execution_count": null,
      "outputs": [
        {
          "output_type": "stream",
          "name": "stdout",
          "text": [
            "globale\n"
          ]
        }
      ]
    },
    {
      "cell_type": "code",
      "metadata": {
        "colab": {
          "base_uri": "https://localhost:8080/"
        },
        "id": "l85mBvjVKJZn",
        "outputId": "25de2771-2057-4946-9d3b-4fb9366bda45"
      },
      "source": [
        "funzione_per_esaminare_scope(variabile_globale,variabile_globale)"
      ],
      "execution_count": null,
      "outputs": [
        {
          "output_type": "stream",
          "name": "stdout",
          "text": [
            "Variabili con scope locali ['locale_1', 'locale_2']\n",
            "Variabili con scope locali ['globale']\n"
          ]
        }
      ]
    },
    {
      "cell_type": "code",
      "metadata": {
        "colab": {
          "base_uri": "https://localhost:8080/",
          "height": 165
        },
        "id": "vZmi9sa2KS16",
        "outputId": "14cf5621-8331-4221-a167-121e3445104a"
      },
      "source": [
        "# La variabile_locale_1 aveva visibilità solo nel livello 2, ora siamo tornatia  livello 1 e non esiste!\n",
        "print(variabile_locale_1)"
      ],
      "execution_count": null,
      "outputs": [
        {
          "output_type": "error",
          "ename": "NameError",
          "evalue": "ignored",
          "traceback": [
            "\u001b[0;31m---------------------------------------------------------------------------\u001b[0m",
            "\u001b[0;31mNameError\u001b[0m                                 Traceback (most recent call last)",
            "\u001b[0;32m<ipython-input-46-9d8b6bccea2c>\u001b[0m in \u001b[0;36m<module>\u001b[0;34m()\u001b[0m\n\u001b[0;32m----> 1\u001b[0;31m \u001b[0mprint\u001b[0m\u001b[0;34m(\u001b[0m\u001b[0mvariabile_locale_1\u001b[0m\u001b[0;34m)\u001b[0m\u001b[0;34m\u001b[0m\u001b[0;34m\u001b[0m\u001b[0m\n\u001b[0m",
            "\u001b[0;31mNameError\u001b[0m: name 'variabile_locale_1' is not defined"
          ]
        }
      ]
    },
    {
      "cell_type": "markdown",
      "metadata": {
        "id": "rBEJqwFIL7rA"
      },
      "source": [
        "## Shadowing di una variabile globale"
      ]
    },
    {
      "cell_type": "code",
      "metadata": {
        "id": "_rFrX37bL-Z4"
      },
      "source": [
        "# Siamo a livello 1 della gerarchia di visibilità\n",
        "# variabile con scope globale\n",
        "\n",
        "variabile_globale = \"globale\"\n",
        "\n",
        "def funzione_per_esaminare_scope(variabile_locale_1, variabile_locale_2):\n",
        "  # Siamo a livello 2 della gerarchia di visibilità\n",
        "  variabile_locale_1 = \"locale_1\" # scope locale\n",
        "  variabile_locale_2 = \"locale_2\" # scope locale\n",
        "  variabile_globale = \"globale_modificata\"\n",
        "  print(\"Variabili con scope locali %s\" % [variabile_locale_1,variabile_locale_2])\n",
        "  print(\"Variabili con scope locali %s\" % [variabile_globale])"
      ],
      "execution_count": null,
      "outputs": []
    },
    {
      "cell_type": "code",
      "metadata": {
        "colab": {
          "base_uri": "https://localhost:8080/"
        },
        "id": "hXQ84fvxMDzH",
        "outputId": "423e406a-8ded-4d04-9194-8334c2358cb2"
      },
      "source": [
        "print(variabile_globale) #variabile globale"
      ],
      "execution_count": null,
      "outputs": [
        {
          "output_type": "stream",
          "name": "stdout",
          "text": [
            "globale\n"
          ]
        }
      ]
    },
    {
      "cell_type": "code",
      "metadata": {
        "colab": {
          "base_uri": "https://localhost:8080/"
        },
        "id": "TO2XanBRMFDj",
        "outputId": "85e1b240-ef9d-46ff-f7ec-266c2a0d7c41"
      },
      "source": [
        "funzione_per_esaminare_scope(variabile_globale,variabile_globale)"
      ],
      "execution_count": null,
      "outputs": [
        {
          "output_type": "stream",
          "name": "stdout",
          "text": [
            "Variabili con scope locali ['locale_1', 'locale_2']\n",
            "Variabili con scope locali ['globale_modificata']\n"
          ]
        }
      ]
    },
    {
      "cell_type": "code",
      "metadata": {
        "colab": {
          "base_uri": "https://localhost:8080/"
        },
        "id": "oLquQzxOMGKi",
        "outputId": "78aea14d-e352-46b2-e2a3-7e5244238363"
      },
      "source": [
        "print(variabile_globale) #variabile globale"
      ],
      "execution_count": null,
      "outputs": [
        {
          "output_type": "stream",
          "name": "stdout",
          "text": [
            "globale\n"
          ]
        }
      ]
    },
    {
      "cell_type": "markdown",
      "metadata": {
        "id": "OQyyoHlYTrYw"
      },
      "source": [
        "# Strutture dati\n",
        "\n",
        "In questa sezione impararemo a costruire e manipolare le quattro strutture dati fondamentali in Python:\n",
        "\n",
        "\n",
        "*  `[Lista]`\n",
        "*  `(Tupla)`\n",
        "*  `{Set}`\n",
        "*  `{'dizio': 'nario'}`\n",
        "\n",
        "\n"
      ]
    },
    {
      "cell_type": "markdown",
      "metadata": {
        "id": "0PxlZeSncHTe"
      },
      "source": [
        "## Liste\n"
      ]
    },
    {
      "cell_type": "code",
      "metadata": {
        "colab": {
          "base_uri": "https://localhost:8080/"
        },
        "id": "Iao8WlPdYV1i",
        "outputId": "a601f170-f123-4c1e-b28a-369e25eb45ca"
      },
      "source": [
        "lista_vuota = []\n",
        "print(lista_vuota)\n",
        "\n",
        "lista_con_interi = [10,20,30]\n",
        "print(lista_con_interi)\n",
        "\n",
        "\n",
        "lista_vuota_utilizzando_classe_callable = list() # classe chiamabile come funzione, come print() e type()\n",
        "print(lista_vuota_utilizzando_classe_callable)"
      ],
      "execution_count": null,
      "outputs": [
        {
          "output_type": "stream",
          "name": "stdout",
          "text": [
            "[]\n",
            "[10, 20, 30]\n",
            "[]\n"
          ]
        }
      ]
    },
    {
      "cell_type": "code",
      "metadata": {
        "colab": {
          "base_uri": "https://localhost:8080/"
        },
        "id": "WrMhw8j_sBQD",
        "outputId": "029c7bfe-8a1c-4cb4-9855-c2075e7755db"
      },
      "source": [
        "# Il costrutto len() indica in generale la lunghezza di una struttura dati, in questo caso la lista\n",
        "\n",
        "print(len(lista_vuota)) # non ho elementi\n",
        "\n",
        "print(len(lista_con_interi)) # ho 3 elementi: 10, 20 e 30"
      ],
      "execution_count": null,
      "outputs": [
        {
          "output_type": "stream",
          "name": "stdout",
          "text": [
            "0\n",
            "3\n"
          ]
        }
      ]
    },
    {
      "cell_type": "markdown",
      "metadata": {
        "id": "ZxFnHCLtrmQT"
      },
      "source": [
        "### Indicizzazione di una lista"
      ]
    },
    {
      "cell_type": "code",
      "metadata": {
        "colab": {
          "base_uri": "https://localhost:8080/"
        },
        "id": "P77bnlsqoPT1",
        "outputId": "d2723432-6c4a-48b8-a352-81945d004fd8"
      },
      "source": [
        "lista_con_interi = [10,20,30]\n",
        "\n",
        "# accedo al primo e al secondo elemento, ricordate che si parte da zero!\n",
        "print(\"L'elemento con indice zero è:\", lista_con_interi[0])\n",
        "print(\"L'elemento con indice uno è:\", lista_con_interi[0])"
      ],
      "execution_count": null,
      "outputs": [
        {
          "output_type": "stream",
          "name": "stdout",
          "text": [
            "L'elemento con indice zero è: 10\n",
            "L'elemento con indice uno è: 10\n"
          ]
        }
      ]
    },
    {
      "cell_type": "code",
      "metadata": {
        "colab": {
          "base_uri": "https://localhost:8080/"
        },
        "id": "O0f5DmC8sqhx",
        "outputId": "3d1c360c-e5d0-4ab8-f84d-9863dda2594a"
      },
      "source": [
        "# accedo all'ultimo elemento della lista e al penultimo, usando la notazione negativa e quindi contando al contrario!\n",
        "print(\"L'elemento con indice -1 è:\", lista_con_interi[-1])\n",
        "print(\"L'elemento con indice -2 è:\", lista_con_interi[-2])"
      ],
      "execution_count": null,
      "outputs": [
        {
          "output_type": "stream",
          "name": "stdout",
          "text": [
            "L'elemento con indice -1 è: 30\n",
            "L'elemento con indice -2 è: 20\n"
          ]
        }
      ]
    },
    {
      "cell_type": "markdown",
      "metadata": {
        "id": "xqSdaopTs3Ia"
      },
      "source": [
        "### Indicizzazione di una sottolista\n"
      ]
    },
    {
      "cell_type": "code",
      "metadata": {
        "colab": {
          "base_uri": "https://localhost:8080/"
        },
        "id": "xIRQ0uzzszwD",
        "outputId": "c46c3dac-d2f4-4ca4-f311-79c4b8c225e5"
      },
      "source": [
        "lista_con_interi = [10,20,30]\n",
        "\n",
        "# prendiamo i primi due elementi della lista\n",
        "print(lista_con_interi[:2])# l'indice dopo i : è esclusivo --> in questo caso stiamo prendendo la lista dall'inizio fino all'indice n-1 (in questo caso 2-1)"
      ],
      "execution_count": null,
      "outputs": [
        {
          "output_type": "stream",
          "name": "stdout",
          "text": [
            "[10, 20]\n"
          ]
        }
      ]
    },
    {
      "cell_type": "code",
      "metadata": {
        "colab": {
          "base_uri": "https://localhost:8080/"
        },
        "id": "kwdwuR-HtC8G",
        "outputId": "90cf5125-3ee8-40ac-f7da-46c3d8f89130"
      },
      "source": [
        "print(lista_con_interi[1:2])# l'indice prima dei : è inclusivo, stiamo prendendo la lista da 1 a n-1 (2-1), cioè la lista contenente l'elemento all'indice 1"
      ],
      "execution_count": null,
      "outputs": [
        {
          "output_type": "stream",
          "name": "stdout",
          "text": [
            "[20]\n"
          ]
        }
      ]
    },
    {
      "cell_type": "code",
      "metadata": {
        "colab": {
          "base_uri": "https://localhost:8080/"
        },
        "id": "X-RPz4WKtHRf",
        "outputId": "cc8039da-4f0e-4c19-861d-96bc01969c93"
      },
      "source": [
        "print(lista_con_interi[1:])# come prima, l'indice prima dei : è inclusivo, prendiamo la sotto-lista dall'indice 1 fino alla fine"
      ],
      "execution_count": null,
      "outputs": [
        {
          "output_type": "stream",
          "name": "stdout",
          "text": [
            "[20, 30]\n"
          ]
        }
      ]
    },
    {
      "cell_type": "markdown",
      "metadata": {
        "id": "a3WhQwH4Reh0"
      },
      "source": [
        "### Mutabilità di una lista"
      ]
    },
    {
      "cell_type": "code",
      "metadata": {
        "colab": {
          "base_uri": "https://localhost:8080/"
        },
        "id": "N9CdkyOZRcvz",
        "outputId": "743a3c09-8c75-45e6-f184-c622142ce173"
      },
      "source": [
        "nuova_lista_mista = [1,2,3]\n",
        "\n",
        "print(\"Prima della modifica\", nuova_lista_mista)\n",
        "\n",
        "# posso accedere direttamente ad uno degli elementi e modificarlo\n",
        "\n",
        "nuova_lista_mista[0] = 5 # assegno alla primo elemento il valore 5\n",
        "print(\"Dopo la prima modifica\", nuova_lista_mista)\n",
        "\n",
        "\n",
        "nuova_lista_mista[-1] = 'ciao' # assegno all'ultimo elemento il valore stringa 'ciao'\n",
        "print(\"Dopo la seconda modifica\", nuova_lista_mista)\n"
      ],
      "execution_count": null,
      "outputs": [
        {
          "output_type": "stream",
          "name": "stdout",
          "text": [
            "Prima della modifica [1, 2, 3]\n",
            "Dopo la prima modifica [5, 2, 3]\n",
            "Dopo la seconda modifica [5, 2, 'ciao']\n"
          ]
        }
      ]
    },
    {
      "cell_type": "code",
      "metadata": {
        "colab": {
          "base_uri": "https://localhost:8080/"
        },
        "id": "dbX4ehj4UZ-I",
        "outputId": "7af7895f-e440-42e9-d25b-5704579bf5d0"
      },
      "source": [
        "# Possiamo cancellare un elemento della lista con l'istruzione del seguita dalla lista indicizzata\n",
        "\n",
        "del nuova_lista_mista[0] # elimino il primo elemento della lista\n",
        "print(\"Lista con primo elemento cancellato: \", nuova_lista_mista)\n"
      ],
      "execution_count": null,
      "outputs": [
        {
          "output_type": "stream",
          "name": "stdout",
          "text": [
            "Lista con primo elemento cancellato:  [2, 'ciao']\n"
          ]
        }
      ]
    },
    {
      "cell_type": "markdown",
      "metadata": {
        "id": "B3-Rr_ngR37P"
      },
      "source": [
        "### Metodi per manipolare una lista"
      ]
    },
    {
      "cell_type": "code",
      "metadata": {
        "colab": {
          "base_uri": "https://localhost:8080/"
        },
        "id": "MCNVfyaBR5sM",
        "outputId": "fcc7db1a-0022-4fe4-8da3-da3ce0a31eed"
      },
      "source": [
        "# Continuiamo ad utilizzare la lista mista di prima\n",
        "\n",
        "copia_lista_mista = nuova_lista_mista.copy()# copiamo la lista\n",
        "\n",
        "# aggiungiamo un elemento alla fine con append\n",
        "copia_lista_mista.append(\"ultimo_elemento\")\n",
        "\n",
        "print(\"Lista vecchia: \", nuova_lista_mista )\n",
        "print(\"Lista copiata e manipolata: \", copia_lista_mista )\n"
      ],
      "execution_count": null,
      "outputs": [
        {
          "output_type": "stream",
          "name": "stdout",
          "text": [
            "Lista vecchia:  [5, 2, 'ciao']\n",
            "Lista copiata e manipolata:  [5, 2, 'ciao', 'ultimo_elemento']\n"
          ]
        }
      ]
    },
    {
      "cell_type": "code",
      "metadata": {
        "colab": {
          "base_uri": "https://localhost:8080/"
        },
        "id": "K8FgXPftSUk7",
        "outputId": "7cc5f9b3-9c9a-4306-d0e1-74fd60879196"
      },
      "source": [
        "copia_lista_mista.insert(1,\"nuovo_secondo_elemento\") # aggiungo un nuovo elemento all'indice 1\n",
        "print(\"Lista copiata con insert: \", copia_lista_mista)\n"
      ],
      "execution_count": null,
      "outputs": [
        {
          "output_type": "stream",
          "name": "stdout",
          "text": [
            "Lista copiata con insert:  [5, 'nuovo_secondo_elemento', 2, 'ciao', 'ultimo_elemento']\n"
          ]
        }
      ]
    },
    {
      "cell_type": "markdown",
      "metadata": {
        "id": "o4EKxb9iUfm3"
      },
      "source": [
        "### Memoria condivisa tra liste\n",
        "\n",
        "Nel caso in cui non utilizzassimo il metodo copy() per copiare una lista in un'altra, potrebbero esserci due variabili che puntano agli stessi oggetti in memoria!"
      ]
    },
    {
      "cell_type": "code",
      "metadata": {
        "colab": {
          "base_uri": "https://localhost:8080/"
        },
        "id": "cVnQC6AiUiEg",
        "outputId": "757c1dcd-7513-4c55-e59c-828cec710351"
      },
      "source": [
        "nuova_lista_1 = [\"C\",\"I\",\"A\",\"O\"]\n",
        "\n",
        "lista_non_copiata_ma_assegnata = nuova_lista_1  # ora  nuova_lista_1 e  lista_non_copiata_ma_assegnata puntano alle stesse zone di memoria condivisa!\n",
        "\n",
        "lista_non_copiata_ma_assegnata.append(\"!\")# se modifico questa, modifico anche nuova_lista_1\n",
        "\n",
        "print(\"nuova_lista_1: \", nuova_lista_1)\n",
        "print(\"lista_non_copiata_ma_assegnata: \", lista_non_copiata_ma_assegnata)\n"
      ],
      "execution_count": null,
      "outputs": [
        {
          "output_type": "stream",
          "name": "stdout",
          "text": [
            "nuova_lista_1:  ['C', 'I', 'A', 'O', '!']\n",
            "lista_non_copiata_ma_assegnata:  ['C', 'I', 'A', 'O', '!']\n"
          ]
        }
      ]
    },
    {
      "cell_type": "markdown",
      "metadata": {
        "id": "2zsyt6ftim4M"
      },
      "source": [
        "### Liste bidimensionali\n"
      ]
    },
    {
      "cell_type": "code",
      "metadata": {
        "id": "hbUlezmKipSG"
      },
      "source": [
        "lista_con_interi_bidimensionale = [[10,20],[30,40],[50,60]] # creiamo la nostra prima lista bidimensionale"
      ],
      "execution_count": null,
      "outputs": []
    },
    {
      "cell_type": "code",
      "metadata": {
        "colab": {
          "base_uri": "https://localhost:8080/"
        },
        "id": "BbJ9hf4hjhaq",
        "outputId": "36c6876f-e9ba-40a9-d315-d2c9e3cc8d64"
      },
      "source": [
        "# Accediamo al secondo elemento della lista che è una lista!\n",
        "print(lista_con_interi_bidimensionale[1])\n",
        "\n",
        "# Accediamo al primo elemento della seconda sotto-lista!\n",
        "print(lista_con_interi_bidimensionale[1][0])\n"
      ],
      "execution_count": null,
      "outputs": [
        {
          "output_type": "stream",
          "name": "stdout",
          "text": [
            "[30, 40]\n",
            "30\n"
          ]
        }
      ]
    },
    {
      "cell_type": "markdown",
      "metadata": {
        "id": "IiTx3Xiilw7M"
      },
      "source": [
        "## Tuple"
      ]
    },
    {
      "cell_type": "code",
      "metadata": {
        "colab": {
          "base_uri": "https://localhost:8080/"
        },
        "id": "DATmSksll4az",
        "outputId": "db060d5e-6b37-482e-c761-caeec684ba1f"
      },
      "source": [
        "tupla_vuota = ()\n",
        "\n",
        "print(tupla_vuota, type(tupla_vuota))\n",
        "\n",
        "tupla_con_interi = (5,6,7) \n",
        "print(tupla_con_interi)\n",
        "\n",
        "tupla_vuota_utilizzando_classe_callable = tuple()\n",
        "print(tupla_vuota_utilizzando_classe_callable)"
      ],
      "execution_count": null,
      "outputs": [
        {
          "output_type": "stream",
          "name": "stdout",
          "text": [
            "() <class 'tuple'>\n",
            "(5, 6, 7)\n",
            "()\n"
          ]
        }
      ]
    },
    {
      "cell_type": "markdown",
      "metadata": {
        "id": "oSpgicQYp5H8"
      },
      "source": [
        "### Indicizzazione di una tupla"
      ]
    },
    {
      "cell_type": "code",
      "metadata": {
        "colab": {
          "base_uri": "https://localhost:8080/"
        },
        "id": "ao7gFBP5mccb",
        "outputId": "89ad5f09-b035-41a2-8581-a8dfd182f85e"
      },
      "source": [
        "# possiamo indicizzare una tupla\n",
        "tupla_con_interi = (5,6,7) \n",
        "\n",
        "print(tupla_con_interi[0]) # prendiamo un elemento della tupla\n",
        "\n",
        "print(tupla_con_interi[1:]) # slice di una tupla"
      ],
      "execution_count": null,
      "outputs": [
        {
          "output_type": "stream",
          "name": "stdout",
          "text": [
            "5\n",
            "(6, 7)\n"
          ]
        }
      ]
    },
    {
      "cell_type": "markdown",
      "metadata": {
        "id": "Uughg1Fsp1XL"
      },
      "source": [
        "### Immutabilità di una tupla"
      ]
    },
    {
      "cell_type": "code",
      "metadata": {
        "id": "pVw20w1qp_SV"
      },
      "source": [
        "tupla_con_interi = (5,6,7) "
      ],
      "execution_count": null,
      "outputs": []
    },
    {
      "cell_type": "code",
      "metadata": {
        "colab": {
          "base_uri": "https://localhost:8080/",
          "height": 165
        },
        "id": "ZQphRynMqZKC",
        "outputId": "e2f5cf3a-e0d1-4d52-c2ba-bb3938e32a25"
      },
      "source": [
        "tupla_con_interi[0]=1 # errore, non si possono modificare valori"
      ],
      "execution_count": null,
      "outputs": [
        {
          "output_type": "error",
          "ename": "TypeError",
          "evalue": "ignored",
          "traceback": [
            "\u001b[0;31m---------------------------------------------------------------------------\u001b[0m",
            "\u001b[0;31mTypeError\u001b[0m                                 Traceback (most recent call last)",
            "\u001b[0;32m<ipython-input-25-0458ce009c2f>\u001b[0m in \u001b[0;36m<module>\u001b[0;34m()\u001b[0m\n\u001b[0;32m----> 1\u001b[0;31m \u001b[0mtupla_con_interi\u001b[0m\u001b[0;34m[\u001b[0m\u001b[0;36m0\u001b[0m\u001b[0;34m]\u001b[0m\u001b[0;34m=\u001b[0m\u001b[0;36m1\u001b[0m\u001b[0;34m\u001b[0m\u001b[0;34m\u001b[0m\u001b[0m\n\u001b[0m",
            "\u001b[0;31mTypeError\u001b[0m: 'tuple' object does not support item assignment"
          ]
        }
      ]
    },
    {
      "cell_type": "code",
      "metadata": {
        "colab": {
          "base_uri": "https://localhost:8080/",
          "height": 165
        },
        "id": "5GstHn3zq-w6",
        "outputId": "f28bfec6-f24c-4cad-9ab3-0372a18e75f8"
      },
      "source": [
        "del tupla_con_interi[0] # errore, non si possono cancellare valori"
      ],
      "execution_count": null,
      "outputs": [
        {
          "output_type": "error",
          "ename": "TypeError",
          "evalue": "ignored",
          "traceback": [
            "\u001b[0;31m---------------------------------------------------------------------------\u001b[0m",
            "\u001b[0;31mTypeError\u001b[0m                                 Traceback (most recent call last)",
            "\u001b[0;32m<ipython-input-26-1a0fb55b86b4>\u001b[0m in \u001b[0;36m<module>\u001b[0;34m()\u001b[0m\n\u001b[0;32m----> 1\u001b[0;31m \u001b[0;32mdel\u001b[0m \u001b[0mtupla_con_interi\u001b[0m\u001b[0;34m[\u001b[0m\u001b[0;36m0\u001b[0m\u001b[0;34m]\u001b[0m \u001b[0;31m# errore, non si possono modificare valori\u001b[0m\u001b[0;34m\u001b[0m\u001b[0;34m\u001b[0m\u001b[0m\n\u001b[0m",
            "\u001b[0;31mTypeError\u001b[0m: 'tuple' object doesn't support item deletion"
          ]
        }
      ]
    },
    {
      "cell_type": "markdown",
      "metadata": {
        "id": "G5HpKghDr0K3"
      },
      "source": [
        "## Dizionari"
      ]
    },
    {
      "cell_type": "code",
      "metadata": {
        "colab": {
          "base_uri": "https://localhost:8080/"
        },
        "id": "WigB0B1lr3gc",
        "outputId": "52d63dc3-15bd-42a0-a36b-458b6b60fd8e"
      },
      "source": [
        "dizionario_vuoto = {}\n",
        "\n",
        "print(dizionario_vuoto, type(dizionario_vuoto))\n",
        "\n",
        "dizionario_con_interi = {\"uno\":1, \"due\":2}\n",
        "print(dizionario_con_interi)\n",
        "\n",
        "dizionario_vuoto_utilizzando_classe_callable = dict()\n",
        "print(dizionario_vuoto_utilizzando_classe_callable)"
      ],
      "execution_count": null,
      "outputs": [
        {
          "output_type": "stream",
          "name": "stdout",
          "text": [
            "{} <class 'dict'>\n",
            "{'uno': 1, 'due': 2}\n",
            "{}\n"
          ]
        }
      ]
    },
    {
      "cell_type": "markdown",
      "metadata": {
        "id": "ZniVmeTqs2gG"
      },
      "source": [
        "### Indicizzazione di un dizionario"
      ]
    },
    {
      "cell_type": "code",
      "metadata": {
        "colab": {
          "base_uri": "https://localhost:8080/"
        },
        "id": "TX88PF6Mr3nY",
        "outputId": "e88240e7-8f57-4141-dc74-872c089e5a25"
      },
      "source": [
        "dizionario_con_interi = {\"uno\":1, \"due\":2}\n",
        "print(dizionario_con_interi[\"uno\"])"
      ],
      "execution_count": null,
      "outputs": [
        {
          "output_type": "stream",
          "name": "stdout",
          "text": [
            "1\n"
          ]
        }
      ]
    },
    {
      "cell_type": "code",
      "metadata": {
        "colab": {
          "base_uri": "https://localhost:8080/",
          "height": 182
        },
        "id": "ME4ttTMnr3rR",
        "outputId": "06d04e2e-82ed-4d98-cb87-96075fba4a7c"
      },
      "source": [
        "dizionario_con_interi = {\"uno\":1, \"due\":2, \"tre\":3}\n",
        "print(dizionario_con_interi[[\"uno\", \"due\"]])"
      ],
      "execution_count": null,
      "outputs": [
        {
          "output_type": "error",
          "ename": "TypeError",
          "evalue": "ignored",
          "traceback": [
            "\u001b[0;31m---------------------------------------------------------------------------\u001b[0m",
            "\u001b[0;31mTypeError\u001b[0m                                 Traceback (most recent call last)",
            "\u001b[0;32m<ipython-input-30-45739cc5f911>\u001b[0m in \u001b[0;36m<module>\u001b[0;34m()\u001b[0m\n\u001b[1;32m      1\u001b[0m \u001b[0mdizionario_con_interi\u001b[0m \u001b[0;34m=\u001b[0m \u001b[0;34m{\u001b[0m\u001b[0;34m\"uno\"\u001b[0m\u001b[0;34m:\u001b[0m\u001b[0;36m1\u001b[0m\u001b[0;34m,\u001b[0m \u001b[0;34m\"due\"\u001b[0m\u001b[0;34m:\u001b[0m\u001b[0;36m2\u001b[0m\u001b[0;34m,\u001b[0m \u001b[0;34m\"tre\"\u001b[0m\u001b[0;34m:\u001b[0m\u001b[0;36m3\u001b[0m\u001b[0;34m}\u001b[0m\u001b[0;34m\u001b[0m\u001b[0;34m\u001b[0m\u001b[0m\n\u001b[0;32m----> 2\u001b[0;31m \u001b[0mprint\u001b[0m\u001b[0;34m(\u001b[0m\u001b[0mdizionario_con_interi\u001b[0m\u001b[0;34m[\u001b[0m\u001b[0;34m[\u001b[0m\u001b[0;34m\"uno\"\u001b[0m\u001b[0;34m,\u001b[0m \u001b[0;34m\"due\"\u001b[0m\u001b[0;34m]\u001b[0m\u001b[0;34m]\u001b[0m\u001b[0;34m)\u001b[0m\u001b[0;34m\u001b[0m\u001b[0;34m\u001b[0m\u001b[0m\n\u001b[0m",
            "\u001b[0;31mTypeError\u001b[0m: unhashable type: 'list'"
          ]
        }
      ]
    },
    {
      "cell_type": "code",
      "metadata": {
        "colab": {
          "base_uri": "https://localhost:8080/"
        },
        "id": "A4nyuPZBvOKL",
        "outputId": "2c96b968-1ba8-460d-b9ea-cea25a1267c3"
      },
      "source": [
        "dizionario_con_interi = {\"uno\":1, \"due\":2, \"tre\":3}\n",
        "\n",
        "print(\"Dizionario iniziale --> \", dizionario_con_interi)\n",
        "\n",
        "del dizionario_con_interi[\"uno\"] # elimino la coppia chiave-valore\n",
        "\n",
        "print(\"\\nDizionario con eliminazione di 'uno' --> \", dizionario_con_interi)\n",
        "\n",
        "dizionario_con_interi[\"uno_nuovo\"] = 1 # aggiungiamo nuova coppia chiave valore\n",
        "\n",
        "print(\"\\nDizionario con aggiunta di 'uno_nuovo' --> \", dizionario_con_interi)\n",
        "\n",
        "dizionario_con_interi[\"tre\"] = 4 # modifichiamo valore da una chiave esistente\n",
        "\n",
        "print(\"\\nDizionario con modifica di 'tre' --> \", dizionario_con_interi)\n"
      ],
      "execution_count": null,
      "outputs": [
        {
          "output_type": "stream",
          "name": "stdout",
          "text": [
            "Dizionario iniziale -->  {'uno': 1, 'due': 2, 'tre': 3}\n",
            "\n",
            "Dizionario con eliminazione di 'uno' -->  {'due': 2, 'tre': 3}\n",
            "\n",
            "Dizionario con aggiunta di 'uno_nuovo' -->  {'due': 2, 'tre': 3, 'uno_nuovo': 1}\n",
            "\n",
            "Dizionario con modifica di 'tre' -->  {'due': 2, 'tre': 4, 'uno_nuovo': 1}\n"
          ]
        }
      ]
    },
    {
      "cell_type": "markdown",
      "metadata": {
        "id": "KFmsrr6OzgjV"
      },
      "source": [
        "## Set"
      ]
    },
    {
      "cell_type": "code",
      "metadata": {
        "colab": {
          "base_uri": "https://localhost:8080/"
        },
        "id": "u14GY2L50EbJ",
        "outputId": "bc45f25d-8f20-4e3c-e354-a47f7163f0a4"
      },
      "source": [
        "# insieme_vuoto = {} ---> NO! così si crea un dict vuoto!\n",
        "\n",
        "\n",
        "insieme_vuoto = set()\n",
        "print(insieme_vuoto,type(insieme_vuoto))\n",
        "\n",
        "insieme_di_interi = {1,2,3}\n",
        "print(insieme_di_interi,type(insieme_di_interi))\n"
      ],
      "execution_count": null,
      "outputs": [
        {
          "output_type": "stream",
          "name": "stdout",
          "text": [
            "set() <class 'set'>\n",
            "{1, 2, 3} <class 'set'>\n"
          ]
        }
      ]
    },
    {
      "cell_type": "markdown",
      "metadata": {
        "id": "ISykoHzX0qaq"
      },
      "source": [
        "### (Non) Indicizzazione di un set"
      ]
    },
    {
      "cell_type": "code",
      "metadata": {
        "colab": {
          "base_uri": "https://localhost:8080/",
          "height": 182
        },
        "id": "l5TGy2XN0tGw",
        "outputId": "3feaeb43-b7a0-44eb-e117-f69864b0e7e4"
      },
      "source": [
        "insieme_di_interi = {1,2,3}\n",
        "print(insieme_di_interi[1]) # errore"
      ],
      "execution_count": null,
      "outputs": [
        {
          "output_type": "error",
          "ename": "TypeError",
          "evalue": "ignored",
          "traceback": [
            "\u001b[0;31m---------------------------------------------------------------------------\u001b[0m",
            "\u001b[0;31mTypeError\u001b[0m                                 Traceback (most recent call last)",
            "\u001b[0;32m<ipython-input-39-fc5e639fd687>\u001b[0m in \u001b[0;36m<module>\u001b[0;34m()\u001b[0m\n\u001b[1;32m      1\u001b[0m \u001b[0minsieme_di_interi\u001b[0m \u001b[0;34m=\u001b[0m \u001b[0;34m{\u001b[0m\u001b[0;36m1\u001b[0m\u001b[0;34m,\u001b[0m\u001b[0;36m2\u001b[0m\u001b[0;34m,\u001b[0m\u001b[0;36m3\u001b[0m\u001b[0;34m}\u001b[0m\u001b[0;34m\u001b[0m\u001b[0;34m\u001b[0m\u001b[0m\n\u001b[0;32m----> 2\u001b[0;31m \u001b[0mprint\u001b[0m\u001b[0;34m(\u001b[0m\u001b[0minsieme_di_interi\u001b[0m\u001b[0;34m[\u001b[0m\u001b[0;36m1\u001b[0m\u001b[0;34m]\u001b[0m\u001b[0;34m)\u001b[0m\u001b[0;34m\u001b[0m\u001b[0;34m\u001b[0m\u001b[0m\n\u001b[0m",
            "\u001b[0;31mTypeError\u001b[0m: 'set' object is not subscriptable"
          ]
        }
      ]
    },
    {
      "cell_type": "markdown",
      "metadata": {
        "id": "m9IlgsFv1xsC"
      },
      "source": [
        "### Mutabilità di un set\n",
        "\n",
        "Possiamo solamente aggiungere o rimuovere elementi ma non modificarli!"
      ]
    },
    {
      "cell_type": "code",
      "metadata": {
        "id": "0DRXv9M913iY"
      },
      "source": [
        "insieme_di_interi = {1,2,3}"
      ],
      "execution_count": null,
      "outputs": []
    },
    {
      "cell_type": "code",
      "metadata": {
        "colab": {
          "base_uri": "https://localhost:8080/"
        },
        "id": "KYoQ-RBU13kx",
        "outputId": "ab1bbc4e-7c5e-4e1b-fdad-578e3bce561a"
      },
      "source": [
        "# aggiungo elemento 4\n",
        "insieme_di_interi.add(4)\n",
        "print(insieme_di_interi)"
      ],
      "execution_count": null,
      "outputs": [
        {
          "output_type": "stream",
          "name": "stdout",
          "text": [
            "{1, 2, 3, 4}\n"
          ]
        }
      ]
    },
    {
      "cell_type": "code",
      "metadata": {
        "colab": {
          "base_uri": "https://localhost:8080/"
        },
        "id": "ra2PcTfC18zC",
        "outputId": "9c5a792e-51f6-4f9e-9196-00f29f3e1735"
      },
      "source": [
        "# rimuovo elemento 2\n",
        "insieme_di_interi.remove(2)\n",
        "print(insieme_di_interi)"
      ],
      "execution_count": null,
      "outputs": [
        {
          "output_type": "stream",
          "name": "stdout",
          "text": [
            "{1, 3, 4}\n"
          ]
        }
      ]
    },
    {
      "cell_type": "code",
      "metadata": {
        "colab": {
          "base_uri": "https://localhost:8080/"
        },
        "id": "Z1wYchLd2CFG",
        "outputId": "2988de6c-7b96-4316-b0bd-5346141352e1"
      },
      "source": [
        "# aggiungo elemento 4, essendo che un set non ha elementi ripetuti non cambia nulla!\n",
        "print(\"Prima aggiunta\", insieme_di_interi)\n",
        "insieme_di_interi.add(4)\n",
        "print(\"Dopo aggiunta del 4\",insieme_di_interi)"
      ],
      "execution_count": null,
      "outputs": [
        {
          "output_type": "stream",
          "name": "stdout",
          "text": [
            "Prima aggiunta {1, 3, 4}\n",
            "Dopo aggiunta del 4 {1, 3, 4}\n"
          ]
        }
      ]
    },
    {
      "cell_type": "markdown",
      "metadata": {
        "id": "mzg6mhhq3tks"
      },
      "source": [
        "### Operazioni insiemistiche"
      ]
    },
    {
      "cell_type": "code",
      "metadata": {
        "id": "y2eYSmR13viT"
      },
      "source": [
        "insieme_di_interi_1 = {1,2,3}\n",
        "insieme_di_interi_2 = {2,3,4}"
      ],
      "execution_count": null,
      "outputs": []
    },
    {
      "cell_type": "code",
      "metadata": {
        "colab": {
          "base_uri": "https://localhost:8080/"
        },
        "id": "h19ETgd23vk4",
        "outputId": "c08c1fae-fdc4-47ad-b868-ff907a53b3f1"
      },
      "source": [
        "# unione\n",
        "print(insieme_di_interi_1.union(insieme_di_interi_2))"
      ],
      "execution_count": null,
      "outputs": [
        {
          "output_type": "stream",
          "name": "stdout",
          "text": [
            "{1, 2, 3, 4}\n"
          ]
        }
      ]
    },
    {
      "cell_type": "code",
      "metadata": {
        "colab": {
          "base_uri": "https://localhost:8080/"
        },
        "id": "Qi6mubbE3vqG",
        "outputId": "7f966e85-f921-414f-e574-5a849e3030ff"
      },
      "source": [
        "# intersezione\n",
        "print(insieme_di_interi_1.intersection(insieme_di_interi_2))"
      ],
      "execution_count": null,
      "outputs": [
        {
          "output_type": "stream",
          "name": "stdout",
          "text": [
            "{2, 3}\n"
          ]
        }
      ]
    },
    {
      "cell_type": "code",
      "metadata": {
        "colab": {
          "base_uri": "https://localhost:8080/"
        },
        "id": "7vw8RfCD35Vi",
        "outputId": "4b5c0874-274c-45a6-aa53-65e233d68a7e"
      },
      "source": [
        "# differenza\n",
        "print(insieme_di_interi_1.difference(insieme_di_interi_2))\n",
        "\n",
        "print(insieme_di_interi_2.difference(insieme_di_interi_1))"
      ],
      "execution_count": null,
      "outputs": [
        {
          "output_type": "stream",
          "name": "stdout",
          "text": [
            "{1}\n",
            "{4}\n"
          ]
        }
      ]
    },
    {
      "cell_type": "markdown",
      "metadata": {
        "id": "cgh_D6s07ZKt"
      },
      "source": [
        "# Operatori di controllo"
      ]
    },
    {
      "cell_type": "markdown",
      "metadata": {
        "id": "VUhaZXuxvFe7"
      },
      "source": [
        "## Operatore di controllo if-else\n",
        "\n",
        "Implementiamo il famoso algoritmo \"Discriminatore\""
      ]
    },
    {
      "cell_type": "code",
      "metadata": {
        "colab": {
          "base_uri": "https://localhost:8080/"
        },
        "id": "mdMMiqlfvHzY",
        "outputId": "1f441d9b-7cb7-4c75-92e2-2239e746c049"
      },
      "source": [
        "numero_intero = int(input('Dammi un intero: ')) \n",
        "\n",
        "if numero_intero <= 10:\n",
        "  print(numero_intero, \" sei discriminato!\") \n",
        "else:\n",
        "  print(numero_intero, \"non sei discriminato!\") "
      ],
      "execution_count": null,
      "outputs": [
        {
          "output_type": "stream",
          "name": "stdout",
          "text": [
            "Dammi un intero: 1548548454\n",
            "1548548454 non sei discriminato!\n"
          ]
        }
      ]
    },
    {
      "cell_type": "markdown",
      "metadata": {
        "id": "m_NSI_nzv6Jv"
      },
      "source": [
        "### Implementiamo il controllo del giorno della settimana"
      ]
    },
    {
      "cell_type": "code",
      "metadata": {
        "colab": {
          "base_uri": "https://localhost:8080/"
        },
        "id": "iNOGQKFIv-3e",
        "outputId": "6b1de716-e740-4db6-8e80-84aa6c6bf93e"
      },
      "source": [
        "giorno_della_settimana = int(input('Indica il giorno odierno con un intero da 1 a 7: ')) \n",
        "\n",
        "if giorno_della_settimana == 1:\n",
        "  print(\"Oggi è lunedì\") \n",
        "elif giorno_della_settimana == 2:\n",
        "  print(\"Oggi è martedì\") \n",
        "elif giorno_della_settimana == 3:\n",
        "  print(\"Oggi è mercoledì\")\n",
        "elif giorno_della_settimana == 4:\n",
        "  print(\"Oggi è giovedì\")\n",
        "elif giorno_della_settimana == 5:\n",
        "  print(\"Oggi è venerdì\")\n",
        "elif giorno_della_settimana == 6:\n",
        "  print(\"Oggi è sabato\")\n",
        "else:\n",
        "  print(\"Oggi è domenica\")"
      ],
      "execution_count": null,
      "outputs": [
        {
          "output_type": "stream",
          "name": "stdout",
          "text": [
            "Indica il giorno odierno con un intero da 1 a 7: 1\n",
            "Oggi è lunedì\n"
          ]
        }
      ]
    },
    {
      "cell_type": "markdown",
      "metadata": {
        "id": "r0ZIJssCziHe"
      },
      "source": [
        "### Controlliamo che una lista abbia almeno 3 elementi"
      ]
    },
    {
      "cell_type": "code",
      "metadata": {
        "id": "s2uzyYbjztQb"
      },
      "source": [
        "lista_interi = [1,2,3]"
      ],
      "execution_count": null,
      "outputs": []
    },
    {
      "cell_type": "code",
      "metadata": {
        "colab": {
          "base_uri": "https://localhost:8080/"
        },
        "id": "8pVzDVIFzhh1",
        "outputId": "9791a8a7-7a30-4373-99df-adcc71c35c69"
      },
      "source": [
        "if len(lista_interi) == 3:\n",
        "  print(\"lunghezza giusta\")\n",
        "else:\n",
        "  print(\"lunghezza non giusta\")"
      ],
      "execution_count": null,
      "outputs": [
        {
          "output_type": "stream",
          "name": "stdout",
          "text": [
            "lunghezza non giusta\n"
          ]
        }
      ]
    },
    {
      "cell_type": "markdown",
      "metadata": {
        "id": "0VaMqGhD9Azp"
      },
      "source": [
        "## Cicli"
      ]
    },
    {
      "cell_type": "markdown",
      "metadata": {
        "id": "LxwLmTGx9IAd"
      },
      "source": [
        "### Il ciclo while"
      ]
    },
    {
      "cell_type": "code",
      "metadata": {
        "colab": {
          "base_uri": "https://localhost:8080/"
        },
        "id": "hKadtbP89GLz",
        "outputId": "96f19bb5-592f-4ba4-a174-cf2c6067c8d7"
      },
      "source": [
        "# Creiamo il nostro primo ciclo while!\n",
        "\n",
        "contatore = 0\n",
        "\n",
        "while contatore < 10:\n",
        "    print(contatore)\n",
        "    contatore +=1 # questa istruzione corrisponde a sommare 1 alla variabile contatore --> contatore = contatore +1"
      ],
      "execution_count": null,
      "outputs": [
        {
          "output_type": "stream",
          "name": "stdout",
          "text": [
            "0\n",
            "1\n",
            "2\n",
            "3\n",
            "4\n",
            "5\n",
            "6\n",
            "7\n",
            "8\n",
            "9\n"
          ]
        }
      ]
    },
    {
      "cell_type": "markdown",
      "metadata": {
        "id": "2tjOewxU98gP"
      },
      "source": [
        "Come creare un ciclo infinito dalla cella di codice appena vista?"
      ]
    },
    {
      "cell_type": "code",
      "metadata": {
        "colab": {
          "base_uri": "https://localhost:8080/"
        },
        "id": "Y0W3TwFE97p3",
        "outputId": "da0686da-cdd2-442c-a728-58a32c9e2ed7"
      },
      "source": [
        "########## Il tuo codice inizia qui ##########\n",
        "contatore = 0\n",
        "\n",
        "while contatore < 10:\n",
        "    print(contatore)\n",
        "    contatore +=1\n",
        "########## Il tuo codice finisce qui ##########"
      ],
      "execution_count": null,
      "outputs": [
        {
          "output_type": "stream",
          "name": "stdout",
          "text": [
            "0\n",
            "1\n",
            "2\n",
            "3\n",
            "4\n",
            "5\n",
            "6\n",
            "7\n",
            "8\n",
            "9\n"
          ]
        }
      ]
    },
    {
      "cell_type": "markdown",
      "metadata": {
        "id": "lN7NXiTUAijp"
      },
      "source": [
        "### Interrompere un while infinito con l'if statement\n",
        "\n",
        "Vogliamo che il nostro utente inserisca numeri finchè lui non ci dice di fermarci tramite il comando 'stop'. \n",
        "\n",
        "Non sappiamo a priori quanti numeri il nostro utente inserirà, per cui abbiamo bisogno di un modo per riconoscere il comando 'stop' e chiudere la computazione!\n"
      ]
    },
    {
      "cell_type": "code",
      "metadata": {
        "colab": {
          "base_uri": "https://localhost:8080/"
        },
        "id": "CWKG7yFdAh4c",
        "outputId": "ac7f9757-18eb-49b8-f3bc-0bd860ccb57e"
      },
      "source": [
        "# Vogliamo che il nostro utente inserisca numeri finchè lui non ci dice di fermarci tramite il comando 'stop'\n",
        "\n",
        "\n",
        "while True:\n",
        "  numero = input(\"Dammi un numero oppure fermami con 'stop' \")\n",
        "  if numero == \"stop\":\n",
        "    break # usciamo dal ciclo while!\n",
        "  # in questo caso possiamo evitare di usare il costrutto else\n",
        "  print(\"Hai digitato \", numero)\n",
        "\n",
        "# usciti dal ciclo\n",
        "print(\"Grazie per averci scelto!\")\n"
      ],
      "execution_count": null,
      "outputs": [
        {
          "output_type": "stream",
          "name": "stdout",
          "text": [
            "Dammi un numero oppure fermami con 'stop'5\n",
            "Hai digitato  5\n",
            "Dammi un numero oppure fermami con 'stop'6\n",
            "Hai digitato  6\n",
            "Dammi un numero oppure fermami con 'stop'stop\n",
            "Grazie per averci scelto!\n"
          ]
        }
      ]
    },
    {
      "cell_type": "code",
      "metadata": {
        "id": "pLsNu8NhBaF9"
      },
      "source": [
        "# Vogliamo che il nostro utente inserisca numeri finchè lui non ci dice di fermarci tramite il comando 'stop'\n",
        "\n",
        "accumulatore = \"\" # stringa vuota\n",
        "\n",
        "while True:\n",
        "  numero = str(input(\"Dammi un numero oppure fermami con 'stop' \"))\n",
        "  if numero == \"stop\":\n",
        "    break # usciamo dal ciclo while!\n",
        "  # in questo caso possiamo evitare di usare il costrutto else\n",
        "  accumulatore += numero # accumulo i numeri inseriti dall'utente\n",
        "  print(\"Hai digitato \", accumulatore)\n",
        "\n",
        "# usciti dal ciclo\n",
        "print(\"Grazie per averci scelto!\")\n"
      ],
      "execution_count": null,
      "outputs": []
    },
    {
      "cell_type": "markdown",
      "metadata": {
        "id": "khoPH6EEAZlg"
      },
      "source": [
        "## Il mondo senza cicli"
      ]
    },
    {
      "cell_type": "markdown",
      "metadata": {
        "id": "oSMTov8W_A8c"
      },
      "source": [
        "### Senza il ciclo while"
      ]
    },
    {
      "cell_type": "code",
      "metadata": {
        "colab": {
          "base_uri": "https://localhost:8080/"
        },
        "id": "XcBf2LwC_D3z",
        "outputId": "eb5d28d3-ee3a-4910-eefe-a3a434cb5b27"
      },
      "source": [
        "contatore = 0\n",
        "print(contatore)\n",
        "\n",
        "contatore+=1 \n",
        "print(contatore)\n",
        "\n",
        "contatore+=1 \n",
        "print(contatore)\n",
        "\n",
        "contatore+=1 \n",
        "print(contatore)\n",
        "\n",
        "contatore+=1 \n",
        "print(contatore)\n",
        "\n",
        "contatore+=1 \n",
        "print(contatore)\n",
        "\n",
        "contatore+=1 \n",
        "print(contatore)\n",
        "\n",
        "contatore+=1 \n",
        "print(contatore)\n",
        "\n",
        "contatore+=1 \n",
        "print(contatore)\n",
        "\n",
        "contatore+=1 \n",
        "print(contatore)"
      ],
      "execution_count": null,
      "outputs": [
        {
          "output_type": "stream",
          "name": "stdout",
          "text": [
            "0\n",
            "1\n",
            "2\n",
            "3\n",
            "4\n",
            "5\n",
            "6\n",
            "7\n",
            "8\n",
            "9\n"
          ]
        }
      ]
    }
  ]
}